{
 "cells": [
  {
   "cell_type": "code",
   "execution_count": 19,
   "id": "f9bad41d-6662-40b8-9a38-a07c53435a3b",
   "metadata": {},
   "outputs": [
    {
     "name": "stdin",
     "output_type": "stream",
     "text": [
      "Enter your name:  Lexi\n",
      "Enter your weight in pounds:  150\n",
      "Enter your height in inches:  69\n"
     ]
    },
    {
     "name": "stdout",
     "output_type": "stream",
     "text": [
      "22.14870825456837\n",
      "Lexi, you are normal weight.\n"
     ]
    }
   ],
   "source": [
    "name = input('Enter your name: ')\n",
    "weight = input('Enter your weight in pounds: ')\n",
    "height = input('Enter your height in inches: ')\n",
    "BMI = (int(weight) * 703) / (int(height) * int(height))\n",
    "print(BMI)\n",
    "\n",
    "if BMI > 0:\n",
    "    if BMI < 18.5:\n",
    "        print(name + ', you are underweight.')\n",
    "    elif BMI <= 24.9:\n",
    "        print(name + ', you are normal weight.')\n",
    "    elif BMI < 29.9:\n",
    "        print(name + ', you are overweight.')\n",
    "    elif BMI < 34.9:\n",
    "        print(name + ', you are obese.')\n",
    "    elif BMI < 39.9:\n",
    "        print(name + ', you are severely obese.')\n",
    "    else:\n",
    "        print(name + ', you are morbidly obese.')\n",
    "else:\n",
    "    print('Please enter valid input.')"
   ]
  },
  {
   "cell_type": "code",
   "execution_count": null,
   "id": "238ec036-383b-45cd-a87a-6abdfa03d545",
   "metadata": {},
   "outputs": [],
   "source": []
  }
 ],
 "metadata": {
  "kernelspec": {
   "display_name": "Python 3 (ipykernel)",
   "language": "python",
   "name": "python3"
  },
  "language_info": {
   "codemirror_mode": {
    "name": "ipython",
    "version": 3
   },
   "file_extension": ".py",
   "mimetype": "text/x-python",
   "name": "python",
   "nbconvert_exporter": "python",
   "pygments_lexer": "ipython3",
   "version": "3.11.7"
  }
 },
 "nbformat": 4,
 "nbformat_minor": 5
}
